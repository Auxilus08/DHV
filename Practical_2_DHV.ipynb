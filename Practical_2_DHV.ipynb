{
  "nbformat": 4,
  "nbformat_minor": 0,
  "metadata": {
    "colab": {
      "provenance": [],
      "authorship_tag": "ABX9TyOxmZyRAMwRijhp5NHlf424",
      "include_colab_link": true
    },
    "kernelspec": {
      "name": "python3",
      "display_name": "Python 3"
    },
    "language_info": {
      "name": "python"
    }
  },
  "cells": [
    {
      "cell_type": "markdown",
      "metadata": {
        "id": "view-in-github",
        "colab_type": "text"
      },
      "source": [
        "<a href=\"https://colab.research.google.com/github/Auxilus08/DHV/blob/main/Practical_2_DHV.ipynb\" target=\"_parent\"><img src=\"https://colab.research.google.com/assets/colab-badge.svg\" alt=\"Open In Colab\"/></a>"
      ]
    },
    {
      "cell_type": "code",
      "execution_count": 1,
      "metadata": {
        "id": "Y23sdIrqsHRU"
      },
      "outputs": [],
      "source": [
        "import pandas as pd\n",
        "import numpy as np\n",
        "from sklearn.model_selection import train_test_split"
      ]
    },
    {
      "cell_type": "code",
      "source": [
        "np.random.seed(42)\n",
        "data = pd.DataFrame({\n",
        "    'ID': range(1,101),\n",
        "    'Gender': np.random.choice(['Male', 'Female'], size=100),\n",
        "    'Location': np.random.choice(['North', 'South', 'East', 'West'], size=100),\n",
        "}\n",
        ")"
      ],
      "metadata": {
        "id": "zU9afW8Nunj4"
      },
      "execution_count": 4,
      "outputs": []
    },
    {
      "cell_type": "code",
      "source": [
        "print(\"Original Sample: \")\n",
        "print(data.head())"
      ],
      "metadata": {
        "id": "1ePb_8O6uwRv",
        "outputId": "3a86bac5-b7c0-4514-a1cc-eb328c8a1145",
        "colab": {
          "base_uri": "https://localhost:8080/"
        }
      },
      "execution_count": 6,
      "outputs": [
        {
          "output_type": "stream",
          "name": "stdout",
          "text": [
            "Original Sample: \n",
            "   ID  Gender Location\n",
            "0   1    Male     East\n",
            "1   2  Female    South\n",
            "2   3    Male    South\n",
            "3   4    Male     West\n",
            "4   5    Male    South\n"
          ]
        }
      ]
    },
    {
      "cell_type": "code",
      "source": [],
      "metadata": {
        "id": "QaNeia4UvR5_"
      },
      "execution_count": null,
      "outputs": []
    }
  ]
}