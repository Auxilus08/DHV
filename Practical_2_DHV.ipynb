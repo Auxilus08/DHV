{
  "nbformat": 4,
  "nbformat_minor": 0,
  "metadata": {
    "colab": {
      "provenance": [],
      "authorship_tag": "ABX9TyOuIC0doy0jpWuyMjhR1vyi",
      "include_colab_link": true
    },
    "kernelspec": {
      "name": "python3",
      "display_name": "Python 3"
    },
    "language_info": {
      "name": "python"
    }
  },
  "cells": [
    {
      "cell_type": "markdown",
      "metadata": {
        "id": "view-in-github",
        "colab_type": "text"
      },
      "source": [
        "<a href=\"https://colab.research.google.com/github/Auxilus08/DHV/blob/main/Practical_2_DHV.ipynb\" target=\"_parent\"><img src=\"https://colab.research.google.com/assets/colab-badge.svg\" alt=\"Open In Colab\"/></a>"
      ]
    },
    {
      "cell_type": "code",
      "execution_count": 1,
      "metadata": {
        "id": "Y23sdIrqsHRU"
      },
      "outputs": [],
      "source": [
        "import pandas as pd\n",
        "import numpy as np\n",
        "from sklearn.model_selection import train_test_split"
      ]
    },
    {
      "cell_type": "code",
      "source": [
        "np.random.seed(42)\n",
        "data = pd.DataFrame({\n",
        "    'ID': range(1,101),\n",
        "    'Gender': np.random.choice(['Male', 'Female'], size=100),\n",
        "    'Location': np.random.choice(['North', 'South', 'East', 'West'], size=100),\n",
        "}\n",
        ")"
      ],
      "metadata": {
        "id": "zU9afW8Nunj4"
      },
      "execution_count": 11,
      "outputs": []
    },
    {
      "cell_type": "code",
      "source": [
        "print(\"Original Sample: \")\n",
        "print(data.head())"
      ],
      "metadata": {
        "colab": {
          "base_uri": "https://localhost:8080/"
        },
        "id": "1ePb_8O6uwRv",
        "outputId": "79a9031e-1026-4a25-ed1c-e675643484a3"
      },
      "execution_count": 12,
      "outputs": [
        {
          "output_type": "stream",
          "name": "stdout",
          "text": [
            "Original Sample: \n",
            "   ID  Gender Location\n",
            "0   1    Male     East\n",
            "1   2  Female    South\n",
            "2   3    Male    South\n",
            "3   4    Male     West\n",
            "4   5    Male    South\n"
          ]
        }
      ]
    },
    {
      "cell_type": "markdown",
      "source": [
        "## Simple Random Sampling"
      ],
      "metadata": {
        "id": "7gNmnjHKwZXo"
      }
    },
    {
      "cell_type": "code",
      "source": [
        "simple_random_sample = data.sample(n=10, random_state=42)\n",
        "print(\"\\nSimple Random Sample: \")\n",
        "print(simple_random_sample)"
      ],
      "metadata": {
        "colab": {
          "base_uri": "https://localhost:8080/"
        },
        "id": "lzN3R1xCwlRG",
        "outputId": "0c0ed7c9-0c2e-40dd-9bfa-8cace36ab79f"
      },
      "execution_count": 13,
      "outputs": [
        {
          "output_type": "stream",
          "name": "stdout",
          "text": [
            "\n",
            "Simple Random Sample: \n",
            "    ID  Gender Location\n",
            "83  84  Female     East\n",
            "53  54  Female     East\n",
            "70  71  Female     West\n",
            "45  46  Female     East\n",
            "44  45  Female     West\n",
            "39  40    Male    North\n",
            "22  23  Female    South\n",
            "80  81    Male    North\n",
            "10  11    Male     West\n",
            "0    1    Male     East\n"
          ]
        }
      ]
    },
    {
      "cell_type": "markdown",
      "source": [
        "## Stratified Sampling (Based on 'Gender')"
      ],
      "metadata": {
        "id": "IlWNQb3dxDBW"
      }
    },
    {
      "cell_type": "code",
      "source": [
        "stratified_sample = data.groupby('Gender', group_keys=False).apply(lambda x: x.sample(frac=0.2, random_state=42))\n",
        "print(\"\\n stratified Sample: \")\n",
        "print(stratified_sample)"
      ],
      "metadata": {
        "colab": {
          "base_uri": "https://localhost:8080/"
        },
        "id": "8hPATGZSxHme",
        "outputId": "a26a7308-a64a-414d-fd3b-31c0fb65a455"
      },
      "execution_count": 17,
      "outputs": [
        {
          "output_type": "stream",
          "name": "stdout",
          "text": [
            "\n",
            " stratified Sample: \n",
            "    ID  Gender Location\n",
            "1    2  Female    South\n",
            "17  18  Female    South\n",
            "68  69  Female     East\n",
            "27  28  Female    North\n",
            "36  37  Female    North\n",
            "93  94  Female     East\n",
            "71  72  Female    North\n",
            "49  50  Female     West\n",
            "86  87  Female    South\n",
            "26  27  Female    South\n",
            "97  98  Female     West\n",
            "78  79    Male    North\n",
            "52  53    Male    North\n",
            "54  55    Male    North\n",
            "74  75    Male     West\n",
            "67  68    Male     East\n",
            "84  85    Male    North\n",
            "6    7    Male    South\n",
            "19  20    Male    North\n",
            "11  12    Male     East\n"
          ]
        },
        {
          "output_type": "stream",
          "name": "stderr",
          "text": [
            "/tmp/ipython-input-4017244142.py:1: DeprecationWarning: DataFrameGroupBy.apply operated on the grouping columns. This behavior is deprecated, and in a future version of pandas the grouping columns will be excluded from the operation. Either pass `include_groups=False` to exclude the groupings or explicitly select the grouping columns after groupby to silence this warning.\n",
            "  stratified_sample = data.groupby('Gender', group_keys=False).apply(lambda x: x.sample(frac=0.2, random_state=42))\n"
          ]
        }
      ]
    },
    {
      "cell_type": "markdown",
      "source": [
        "## Cluster Sampling (Using 'Locations' as cluster)"
      ],
      "metadata": {
        "id": "qWLxURlvxuxG"
      }
    },
    {
      "cell_type": "code",
      "source": [
        "clusters = data['Location'].unique()\n",
        "selected_cluster = np.random.choice(clusters, size=2, replace=False)\n",
        "cluster_sample = data[data['Location'].isin(selected_cluster)]\n",
        "print(\"\\nCluster Sample: \")\n",
        "print(cluster_sample)"
      ],
      "metadata": {
        "colab": {
          "base_uri": "https://localhost:8080/"
        },
        "id": "jVwINVQOxlrG",
        "outputId": "fd529234-c3e0-40ee-fb97-11d749a4a200"
      },
      "execution_count": 18,
      "outputs": [
        {
          "output_type": "stream",
          "name": "stdout",
          "text": [
            "\n",
            "Cluster Sample: \n",
            "     ID  Gender Location\n",
            "0     1    Male     East\n",
            "1     2  Female    South\n",
            "2     3    Male    South\n",
            "4     5    Male    South\n",
            "5     6  Female    South\n",
            "6     7    Male    South\n",
            "8     9    Male    South\n",
            "9    10  Female     East\n",
            "11   12    Male     East\n",
            "13   14    Male    South\n",
            "14   15  Female     East\n",
            "17   18  Female    South\n",
            "22   23  Female    South\n",
            "23   24  Female     East\n",
            "26   27  Female    South\n",
            "34   35  Female     East\n",
            "38   39    Male     East\n",
            "45   46  Female     East\n",
            "46   47  Female     East\n",
            "47   48    Male     East\n",
            "50   51    Male     East\n",
            "51   52  Female     East\n",
            "53   54  Female     East\n",
            "55   56  Female    South\n",
            "56   57  Female     East\n",
            "57   58    Male    South\n",
            "60   61    Male     East\n",
            "64   65    Male    South\n",
            "67   68    Male     East\n",
            "68   69  Female     East\n",
            "69   70  Female    South\n",
            "72   73    Male     East\n",
            "75   76  Female    South\n",
            "76   77  Female     East\n",
            "77   78  Female     East\n",
            "79   80  Female     East\n",
            "81   82  Female     East\n",
            "82   83    Male    South\n",
            "83   84  Female     East\n",
            "86   87  Female    South\n",
            "87   88    Male     East\n",
            "88   89  Female     East\n",
            "89   90  Female    South\n",
            "90   91  Female     East\n",
            "91   92  Female     East\n",
            "93   94  Female     East\n",
            "94   95  Female     East\n",
            "95   96  Female    South\n",
            "96   97  Female    South\n",
            "99  100    Male     East\n"
          ]
        }
      ]
    },
    {
      "cell_type": "markdown",
      "source": [
        "## Systematic sampling (every 10th record)"
      ],
      "metadata": {
        "id": "iY15gV9BycNu"
      }
    },
    {
      "cell_type": "code",
      "source": [
        "k = 10\n",
        "start = np.random.randint(0,k)\n",
        "systematic_sample = data.iloc[start::k]\n",
        "print(\"\\nSystematic Sample: \")\n",
        "print(systematic_sample)"
      ],
      "metadata": {
        "colab": {
          "base_uri": "https://localhost:8080/"
        },
        "id": "jlkwP1qVyMRv",
        "outputId": "c78f2788-70ad-4ecb-bb02-d96734aca0d4"
      },
      "execution_count": 20,
      "outputs": [
        {
          "output_type": "stream",
          "name": "stdout",
          "text": [
            "\n",
            "Systematic Sample: \n",
            "    ID  Gender Location\n",
            "3    4    Male     West\n",
            "13  14    Male    South\n",
            "23  24  Female     East\n",
            "33  34  Female    North\n",
            "43  44  Female     West\n",
            "53  54  Female     East\n",
            "63  64    Male     West\n",
            "73  74  Female     West\n",
            "83  84  Female     East\n",
            "93  94  Female     East\n"
          ]
        }
      ]
    },
    {
      "cell_type": "code",
      "source": [],
      "metadata": {
        "id": "-AXCGYq4z_Y3"
      },
      "execution_count": null,
      "outputs": []
    }
  ]
}