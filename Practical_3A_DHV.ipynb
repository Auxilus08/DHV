{
  "nbformat": 4,
  "nbformat_minor": 0,
  "metadata": {
    "colab": {
      "provenance": [],
      "authorship_tag": "ABX9TyMDmaAuFF7Y0xbNJxJSJ/SJ",
      "include_colab_link": true
    },
    "kernelspec": {
      "name": "python3",
      "display_name": "Python 3"
    },
    "language_info": {
      "name": "python"
    }
  },
  "cells": [
    {
      "cell_type": "markdown",
      "metadata": {
        "id": "view-in-github",
        "colab_type": "text"
      },
      "source": [
        "<a href=\"https://colab.research.google.com/github/Auxilus08/DHV/blob/main/Practical_3A_DHV.ipynb\" target=\"_parent\"><img src=\"https://colab.research.google.com/assets/colab-badge.svg\" alt=\"Open In Colab\"/></a>"
      ]
    },
    {
      "cell_type": "markdown",
      "source": [
        "# Mean, Median, Mode"
      ],
      "metadata": {
        "id": "QrtVP3a2-yP1"
      }
    },
    {
      "cell_type": "markdown",
      "source": [
        "## Sequence Data"
      ],
      "metadata": {
        "id": "4F3YVFzi-3s0"
      }
    },
    {
      "cell_type": "code",
      "execution_count": 1,
      "metadata": {
        "id": "4hihDqae-m7d"
      },
      "outputs": [],
      "source": [
        "from sklearn.datasets import load_iris\n",
        "from statistics import mean,mode,median"
      ]
    },
    {
      "cell_type": "code",
      "source": [
        "# Load iris dataset\n",
        "iris = load_iris()\n",
        "data = iris.data[: , 0] # sepal Length (first column)"
      ],
      "metadata": {
        "id": "1IOLq7dq_DDf"
      },
      "execution_count": 9,
      "outputs": []
    },
    {
      "cell_type": "code",
      "source": [
        "data_list = data.tolist()\n",
        "mean_value = mean(data_list)\n",
        "\n",
        "print(mean_value)"
      ],
      "metadata": {
        "colab": {
          "base_uri": "https://localhost:8080/"
        },
        "id": "jiZ2aEPp_K3O",
        "outputId": "531a265d-fe07-4291-b605-784f68bc090e"
      },
      "execution_count": 10,
      "outputs": [
        {
          "output_type": "stream",
          "name": "stdout",
          "text": [
            "5.843333333333334\n"
          ]
        }
      ]
    },
    {
      "cell_type": "code",
      "source": [
        "try:\n",
        "  mode_value = mode(data_list)\n",
        "except:\n",
        "  mode_value = \"No unique mode\"\n",
        "\n",
        "print(mode_value)"
      ],
      "metadata": {
        "colab": {
          "base_uri": "https://localhost:8080/"
        },
        "id": "AtUwALda_Rst",
        "outputId": "29ec3c2f-40b6-42b9-f0cf-6006c3cb94f4"
      },
      "execution_count": 11,
      "outputs": [
        {
          "output_type": "stream",
          "name": "stdout",
          "text": [
            "5.0\n"
          ]
        }
      ]
    },
    {
      "cell_type": "code",
      "source": [
        "median_value = median(data_list)\n",
        "\n",
        "print(median_value)"
      ],
      "metadata": {
        "colab": {
          "base_uri": "https://localhost:8080/"
        },
        "id": "4IEuv8xT_U4V",
        "outputId": "7b3605df-a244-4f77-d783-f99c487fb058"
      },
      "execution_count": 12,
      "outputs": [
        {
          "output_type": "stream",
          "name": "stdout",
          "text": [
            "5.8\n"
          ]
        }
      ]
    },
    {
      "cell_type": "code",
      "source": [],
      "metadata": {
        "id": "JYvZTyJE_emF"
      },
      "execution_count": 12,
      "outputs": []
    }
  ]
}