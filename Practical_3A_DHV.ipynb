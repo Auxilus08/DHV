{
  "nbformat": 4,
  "nbformat_minor": 0,
  "metadata": {
    "colab": {
      "provenance": [],
      "authorship_tag": "ABX9TyOv3EIsepCn195xMF0zGZ0E",
      "include_colab_link": true
    },
    "kernelspec": {
      "name": "python3",
      "display_name": "Python 3"
    },
    "language_info": {
      "name": "python"
    }
  },
  "cells": [
    {
      "cell_type": "markdown",
      "metadata": {
        "id": "view-in-github",
        "colab_type": "text"
      },
      "source": [
        "<a href=\"https://colab.research.google.com/github/Auxilus08/DHV/blob/main/Practical_3A_DHV.ipynb\" target=\"_parent\"><img src=\"https://colab.research.google.com/assets/colab-badge.svg\" alt=\"Open In Colab\"/></a>"
      ]
    },
    {
      "cell_type": "markdown",
      "source": [
        "# Mean, Median, Mode"
      ],
      "metadata": {
        "id": "QrtVP3a2-yP1"
      }
    },
    {
      "cell_type": "markdown",
      "source": [
        "## Sequence Data"
      ],
      "metadata": {
        "id": "4F3YVFzi-3s0"
      }
    },
    {
      "cell_type": "code",
      "execution_count": 1,
      "metadata": {
        "id": "4hihDqae-m7d"
      },
      "outputs": [],
      "source": [
        "from sklearn.datasets import load_iris\n",
        "from statistics import mean,mode,median"
      ]
    },
    {
      "cell_type": "code",
      "source": [
        "# Load iris dataset\n",
        "iris = load_iris()\n",
        "data = iris.data[: , 0] # sepal Length (first column)"
      ],
      "metadata": {
        "id": "1IOLq7dq_DDf"
      },
      "execution_count": 9,
      "outputs": []
    },
    {
      "cell_type": "code",
      "source": [
        "data_list = data.tolist()\n",
        "mean_value = mean(data_list)\n",
        "\n",
        "print(mean_value)"
      ],
      "metadata": {
        "colab": {
          "base_uri": "https://localhost:8080/"
        },
        "id": "jiZ2aEPp_K3O",
        "outputId": "531a265d-fe07-4291-b605-784f68bc090e"
      },
      "execution_count": 10,
      "outputs": [
        {
          "output_type": "stream",
          "name": "stdout",
          "text": [
            "5.843333333333334\n"
          ]
        }
      ]
    },
    {
      "cell_type": "code",
      "source": [
        "try:\n",
        "  mode_value = mode(data_list)\n",
        "except:\n",
        "  mode_value = \"No unique mode\"\n",
        "\n",
        "print(mode_value)"
      ],
      "metadata": {
        "colab": {
          "base_uri": "https://localhost:8080/"
        },
        "id": "AtUwALda_Rst",
        "outputId": "29ec3c2f-40b6-42b9-f0cf-6006c3cb94f4"
      },
      "execution_count": 11,
      "outputs": [
        {
          "output_type": "stream",
          "name": "stdout",
          "text": [
            "5.0\n"
          ]
        }
      ]
    },
    {
      "cell_type": "code",
      "source": [
        "median_value = median(data_list)\n",
        "\n",
        "print(median_value)"
      ],
      "metadata": {
        "colab": {
          "base_uri": "https://localhost:8080/"
        },
        "id": "4IEuv8xT_U4V",
        "outputId": "7b3605df-a244-4f77-d783-f99c487fb058"
      },
      "execution_count": 12,
      "outputs": [
        {
          "output_type": "stream",
          "name": "stdout",
          "text": [
            "5.8\n"
          ]
        }
      ]
    },
    {
      "cell_type": "code",
      "source": [
        "import seaborn as sns"
      ],
      "metadata": {
        "id": "JYvZTyJE_emF"
      },
      "execution_count": 13,
      "outputs": []
    },
    {
      "cell_type": "code",
      "source": [
        "titanic = sns.load_dataset(\"titanic\")\n",
        "age_data = titanic['age'].dropna().tolist()"
      ],
      "metadata": {
        "id": "I-JL6DiTA-MM"
      },
      "execution_count": 14,
      "outputs": []
    },
    {
      "cell_type": "code",
      "source": [
        "mean_value = mean(age_data)"
      ],
      "metadata": {
        "id": "QPayM6YbBH3F"
      },
      "execution_count": 15,
      "outputs": []
    },
    {
      "cell_type": "code",
      "source": [
        "try:\n",
        "  mode_value = mode(age_data)\n",
        "except:\n",
        "  mode_value = \"No unique mode\"\n"
      ],
      "metadata": {
        "id": "Y5C4rRRvBL5E"
      },
      "execution_count": 16,
      "outputs": []
    },
    {
      "cell_type": "code",
      "source": [
        "median_value = median(age_data)\n"
      ],
      "metadata": {
        "id": "K1h9gaj9BQHF"
      },
      "execution_count": 17,
      "outputs": []
    },
    {
      "cell_type": "code",
      "source": [
        "print(f'Mean: {mean_value}')\n",
        "print(f'Mode: {mode_value}')\n",
        "print(f'Median: {median_value}')"
      ],
      "metadata": {
        "colab": {
          "base_uri": "https://localhost:8080/"
        },
        "id": "mvEnUlTgBXXE",
        "outputId": "604040f1-5427-457b-a6e8-2df224c80e9b"
      },
      "execution_count": 18,
      "outputs": [
        {
          "output_type": "stream",
          "name": "stdout",
          "text": [
            "Mean: 29.699117647058824\n",
            "Mode: 24.0\n",
            "Median: 28.0\n"
          ]
        }
      ]
    },
    {
      "cell_type": "markdown",
      "source": [
        "## Grouped Data"
      ],
      "metadata": {
        "id": "0O3KcNSgCD2c"
      }
    },
    {
      "cell_type": "code",
      "source": [
        "class_intervals  = [(50, 59), (60,69), (70,79), (80,89), (90,99)]\n",
        "frequencies = [4, 6, 12, 8, 5]\n",
        "\n",
        "midpoints = [(interval[0] + interval[1]) / 2 for interval in class_intervals]\n",
        "\n",
        "N = sum(frequencies)\n",
        "mean = sum(f * m for f,m in zip(frequencies, midpoints)) / N\n",
        "\n",
        "modal_index = frequencies.index(max(frequencies))\n",
        "modal_class = class_intervals[model_index]\n",
        "modal_freq = frequencies[model_index]\n",
        "\n",
        "f1 = frequencies[modal_index - 1] if modal_index > 0 else 0\n",
        "f2 = frequencies[modal_index + 1] if modal_index < len(frequencies) - 1 else 0"
      ],
      "metadata": {
        "id": "qAyd9zd1BeEl"
      },
      "execution_count": 22,
      "outputs": []
    },
    {
      "cell_type": "code",
      "source": [
        "h = modal_class[1] - modal_class[0] + 1\n",
        "mode = modal_class[0] + ((modal_freq - f1) / ((2 * modal_freq) - f1 - f2)) * h"
      ],
      "metadata": {
        "id": "ZkqEOINsCBks"
      },
      "execution_count": 23,
      "outputs": []
    },
    {
      "cell_type": "code",
      "source": [
        "cum_freq = []\n",
        "total = 0\n",
        "for f in frequencies:\n",
        "  total += f\n",
        "  cum_freq.append(total)\n",
        "\n",
        "median_class_index = next(i for i, cf in enumerate(cum_freq) if cf >= N / 2)\n",
        "median_class = class_intervals[median_class_index]\n",
        "\n",
        "cf_before = cum_freq[median_class_index - 1] if median_class_index > 0 else 0\n",
        "f_med = frequencies[median_class_index]\n",
        "median = median_class[0] + ((N / 2 - cf_before) / f_med) * h"
      ],
      "metadata": {
        "id": "CUNiVV0IEn8-"
      },
      "execution_count": 24,
      "outputs": []
    },
    {
      "cell_type": "code",
      "source": [
        "print(f'Mean: {mean}')\n",
        "print(f'Mode: {mode}')\n",
        "print(f'Median: {median}')"
      ],
      "metadata": {
        "colab": {
          "base_uri": "https://localhost:8080/"
        },
        "id": "sC1-jCwPFLct",
        "outputId": "f9a0f22d-d8f3-48fb-835b-2eea27e81fb2"
      },
      "execution_count": 26,
      "outputs": [
        {
          "output_type": "stream",
          "name": "stdout",
          "text": [
            "Mean: 75.64285714285714\n",
            "Mode: 76.0\n",
            "Median: 76.25\n"
          ]
        }
      ]
    },
    {
      "cell_type": "code",
      "source": [],
      "metadata": {
        "id": "ihblPQXaFP6d"
      },
      "execution_count": null,
      "outputs": []
    }
  ]
}