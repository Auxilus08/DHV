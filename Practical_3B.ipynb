{
  "nbformat": 4,
  "nbformat_minor": 0,
  "metadata": {
    "colab": {
      "provenance": [],
      "authorship_tag": "ABX9TyMGnEIbPHMz2FcLaIkV5/ER",
      "include_colab_link": true
    },
    "kernelspec": {
      "name": "python3",
      "display_name": "Python 3"
    },
    "language_info": {
      "name": "python"
    }
  },
  "cells": [
    {
      "cell_type": "markdown",
      "metadata": {
        "id": "view-in-github",
        "colab_type": "text"
      },
      "source": [
        "<a href=\"https://colab.research.google.com/github/Auxilus08/DHV/blob/main/Practical_3B.ipynb\" target=\"_parent\"><img src=\"https://colab.research.google.com/assets/colab-badge.svg\" alt=\"Open In Colab\"/></a>"
      ]
    },
    {
      "cell_type": "markdown",
      "source": [],
      "metadata": {
        "id": "n7wF8NXxynYD"
      }
    },
    {
      "cell_type": "code",
      "execution_count": 5,
      "metadata": {
        "id": "pGqQQBNcwhih"
      },
      "outputs": [],
      "source": [
        "latency =  [30, 32, 31, 29, 150, 28, 27, 33, 34, 29, 31, 35, 200, 29, 30, 28, 33]"
      ]
    },
    {
      "cell_type": "code",
      "source": [
        "import numpy as np\n",
        "from scipy import stats"
      ],
      "metadata": {
        "id": "0MrKLM22zaPi"
      },
      "execution_count": 8,
      "outputs": []
    },
    {
      "cell_type": "code",
      "source": [
        "mean_val = np.mean(latency)\n",
        "mode_val = stats.mode(latency)[0]\n",
        "median_val = np.median(latency)\n",
        "\n",
        "print(\"Mean: \", mean_val)\n",
        "print(\"Mode: \", mode_val)\n",
        "print(\"Median: \", median_val)"
      ],
      "metadata": {
        "colab": {
          "base_uri": "https://localhost:8080/"
        },
        "id": "y910bplhzfxS",
        "outputId": "1cc1a7e0-94a5-40e9-da76-26c2e8f4254e"
      },
      "execution_count": 12,
      "outputs": [
        {
          "output_type": "stream",
          "name": "stdout",
          "text": [
            "Mean:  47.588235294117645\n",
            "Mode:  29\n",
            "Median:  31.0\n"
          ]
        }
      ]
    },
    {
      "cell_type": "code",
      "source": [
        "skewness = stats.skew(latency)\n",
        "print(\"Skewness: \", skewness)\n",
        "\n",
        "kurtosis = stats.kurtosis(latency)\n",
        "print(\"Kurtosis: \", kurtosis)"
      ],
      "metadata": {
        "colab": {
          "base_uri": "https://localhost:8080/"
        },
        "id": "dvjWqrv1z7IU",
        "outputId": "fd5474f9-955c-41aa-e055-4c4a97f38f48"
      },
      "execution_count": 10,
      "outputs": [
        {
          "output_type": "stream",
          "name": "stdout",
          "text": [
            "Skewness:  2.5128078704103576\n",
            "Kurtosis:  4.613368274768248\n"
          ]
        }
      ]
    },
    {
      "cell_type": "code",
      "source": [
        "# modified Z score for outliers\n",
        "\n",
        "median = np.median(latency)\n",
        "mad = np.median([np.abs(latency - median)])\n",
        "modified_z_scores = [0.6745 * (x - median) / mad for x in latency]\n",
        "outliers_mz = [x for x, mz in zip(latency, modified_z_scores) if abs(mz) > 3.5]"
      ],
      "metadata": {
        "id": "7SSPFH7c0WLL"
      },
      "execution_count": 13,
      "outputs": []
    },
    {
      "cell_type": "code",
      "source": [
        "# Tukey's fences\n",
        "\n",
        "Q1, Q3 = np.percentile(latency, [25, 75])\n",
        "IQR = Q3 - Q1\n",
        "lower_fence = Q1 - 1.5 * IQR\n",
        "upper_fence = Q3 + 1.5 * IQR\n",
        "outliers_tukey = [x for x in latency if x < lower_fence or x > upper_fence]\n",
        "\n",
        "\n",
        "print(f\"Mean: {mean_val}, Median: {median_val}, Mode: {mode_val}\")\n",
        "print(f\"Skewness: {skewness:.3f}, Kurtosis: {kurtosis:.3f}\")\n",
        "print(f\"Outliers (Modified Z-Score): {outliers_mz}\")\n",
        "print(f\"Outliers (Tukey's Fences): {outliers_tukey}\")"
      ],
      "metadata": {
        "colab": {
          "base_uri": "https://localhost:8080/"
        },
        "id": "aURXkIvs1DGT",
        "outputId": "53e3c7f0-c3ba-496b-d7d6-923d39282e55"
      },
      "execution_count": 17,
      "outputs": [
        {
          "output_type": "stream",
          "name": "stdout",
          "text": [
            "Mean: 47.588235294117645, Median: 31.0, Mode: 29\n",
            "Skewness: 2.513, Kurtosis: 4.613\n",
            "Outliers (Modified Z-Score): [150, 200]\n",
            "Outliers (Tukey's Fences): [150, 200]\n"
          ]
        }
      ]
    },
    {
      "cell_type": "markdown",
      "source": [
        "Measures of Variation and ECDF(Emprical Cumulative Distribution Function) on Grouped Data with Unequal Class Widths"
      ],
      "metadata": {
        "id": "xAOhcxdY2W6S"
      }
    },
    {
      "cell_type": "code",
      "source": [
        "import matplotlib.pyplot as plt"
      ],
      "metadata": {
        "id": "GEAVxq9b3mKS"
      },
      "execution_count": null,
      "outputs": []
    },
    {
      "cell_type": "code",
      "source": [
        "import numpy as np\n",
        "from scipy import stats\n",
        "import matplotlib.pyplot as plt\n",
        "\n",
        "class_intervals = [(10, 19), (20,34), (35, 49), (50, 70)]\n",
        "frequencies = [4, 7, 6, 3]\n",
        "\n",
        "midpoints = [(low + high) / 2 for low, high in class_intervals]\n",
        "n = sum(frequencies)\n",
        "\n",
        "mean_grouped = sum(f * x for f, x in zip(frequencies, midpoints)) / n\n",
        "variance = sum(f * (x - mean_grouped)**2 for f, x in zip(frequencies, midpoints)) / n\n",
        "cv = (np.sqrt(variance) / mean_grouped) * 100\n",
        "\n",
        "\n",
        "cum_freq = np.cumsum(frequencies)\n"
      ],
      "metadata": {
        "id": "842iuG5w1MPi"
      },
      "execution_count": 21,
      "outputs": []
    },
    {
      "cell_type": "code",
      "metadata": {
        "colab": {
          "base_uri": "https://localhost:8080/",
          "height": 472
        },
        "id": "0c47c3b0",
        "outputId": "c9bd96db-b6c2-4243-f644-dc5cc55a2ecc"
      },
      "source": [
        "ecdf_x = []\n",
        "ecdf_y = []\n",
        "\n",
        "for i, f in enumerate(frequencies):\n",
        "  ecdf_x.append(midpoints[i])\n",
        "  ecdf_y.append(cum_freq[i]/n)\n",
        "\n",
        "plt.step(ecdf_x, ecdf_y, where = 'post')\n",
        "plt.xlabel(\"Throughput (Mbps)\")\n",
        "plt.ylabel(\"ECDF\")\n",
        "plt.title(\"Empirical Cumulative Distribution Function (ECDF)\")\n",
        "plt.show()"
      ],
      "execution_count": 24,
      "outputs": [
        {
          "output_type": "display_data",
          "data": {
            "text/plain": [
              "<Figure size 640x480 with 1 Axes>"
            ],
            "image/png": "[encoded data removed]"
          },
          "metadata": {}
        }
      ]
    },
    {
      "cell_type": "code",
      "source": [
        "print(f\"Mean : {mean_grouped}, variance : {variance:.3f}, CoV : {cv:.3f}%\")"
      ],
      "metadata": {
        "colab": {
          "base_uri": "https://localhost:8080/"
        },
        "id": "8oEArmqD5zIC",
        "outputId": "d2985653-0217-4ceb-eb10-3b9ec4195c52"
      },
      "execution_count": 27,
      "outputs": [
        {
          "output_type": "stream",
          "name": "stdout",
          "text": [
            "Mean : 33.95, variance : 213.797, CoV : 43.069%\n"
          ]
        }
      ]
    },
    {
      "cell_type": "markdown",
      "source": [
        "Multivariate Z-score and Anomaly Detection"
      ],
      "metadata": {
        "id": "BeuPk0jE6bWp"
      }
    },
    {
      "cell_type": "code",
      "source": [],
      "metadata": {
        "id": "Vy_4Mc7A6YqB"
      },
      "execution_count": 27,
      "outputs": []
    },
    {
      "cell_type": "code",
      "metadata": {
        "id": "bf551d96"
      },
      "source": [
        "np.random.seed(42)\n",
        "\n",
        "\n",
        "cpu_usage = np.random.normal(loc=50, scale=15, size=45)\n",
        "memory_usage = np.random.normal(loc=60, scale=10, size=45)\n",
        "\n",
        "\n",
        "outlier_cpu = np.array([95, 10, 80, 5, 90])\n",
        "outlier_memory = np.array([10, 95, 85, 15, 90])\n",
        "\n",
        "data = np.vstack((np.concatenate((cpu_usage, outlier_cpu)), np.concatenate((memory_usage, outlier_memory)))).T"
      ],
      "execution_count": 28,
      "outputs": []
    },
    {
      "cell_type": "code",
      "metadata": {
        "colab": {
          "base_uri": "https://localhost:8080/"
        },
        "id": "a94a7981",
        "outputId": "4d4c75f3-ae05-46ce-cd7a-3ea71ef5e721"
      },
      "source": [
        "print(data[:5])"
      ],
      "execution_count": 29,
      "outputs": [
        {
          "output_type": "stream",
          "name": "stdout",
          "text": [
            "[[57.4507123  52.80155792]\n",
            " [47.92603548 55.39361229]\n",
            " [59.71532807 70.57122226]\n",
            " [72.84544785 63.4361829 ]\n",
            " [46.48769938 42.36959845]]\n"
          ]
        }
      ]
    },
    {
      "cell_type": "code",
      "metadata": {
        "colab": {
          "base_uri": "https://localhost:8080/"
        },
        "id": "1f22616d",
        "outputId": "88fe1161-da7e-4321-9296-6cd5cc11a444"
      },
      "source": [
        "mean_vector = np.mean(data, axis=0)\n",
        "cov_matrix = np.cov(data.T)\n",
        "\n",
        "print(\"Mean Vector:\", mean_vector)\n",
        "print(\"Covariance Matrix:\\n\", cov_matrix)"
      ],
      "execution_count": 30,
      "outputs": [
        {
          "output_type": "stream",
          "name": "stdout",
          "text": [
            "Mean Vector: [47.68072621 60.06763497]\n",
            "Covariance Matrix:\n",
            " [[345.3505859  -14.43958896]\n",
            " [-14.43958896 227.02261971]]\n"
          ]
        }
      ]
    },
    {
      "cell_type": "code",
      "metadata": {
        "id": "9716a238"
      },
      "source": [
        "from scipy.spatial.distance import mahalanobis\n",
        "\n",
        "inv_cov_matrix = np.linalg.inv(cov_matrix)\n",
        "\n",
        "mahalanobis_distances = [mahalanobis(x, mean_vector, inv_cov_matrix) for x in data]"
      ],
      "execution_count": 31,
      "outputs": []
    },
    {
      "cell_type": "code",
      "metadata": {
        "colab": {
          "base_uri": "https://localhost:8080/"
        },
        "id": "baf92f09",
        "outputId": "6d00b295-661f-4756-a515-ae040cd87a45"
      },
      "source": [
        "threshold = 5.99  # Chi-squared critical value for 95% confidence and 2 degrees of freedom\n",
        "\n",
        "anomalies = [data[i] for i, dist in enumerate(mahalanobis_distances) if dist > threshold]\n",
        "\n",
        "print(\"Identified Anomalies:\")\n",
        "for anomaly in anomalies:\n",
        "  print(anomaly)"
      ],
      "execution_count": 32,
      "outputs": [
        {
          "output_type": "stream",
          "name": "stdout",
          "text": [
            "Identified Anomalies:\n"
          ]
        }
      ]
    },
    {
      "cell_type": "code",
      "metadata": {
        "colab": {
          "base_uri": "https://localhost:8080/",
          "height": 581
        },
        "id": "Q2NaIN4x8F14",
        "outputId": "93f8fe9c-61fd-46d0-97be-37e1806ebb44"
      },
      "source": [
        "plt.figure(figsize=(8, 6))\n",
        "plt.scatter(data[:, 0], data[:, 1], label='Normal Data', alpha=0.6)\n",
        "plt.xlabel('CPU Usage (%)')\n",
        "plt.ylabel('Memory Usage (%)')\n",
        "plt.title('CPU vs Memory Usage')\n",
        "\n",
        "if anomalies: # Check if the anomalies list is not empty\n",
        "    anomalies_np = np.array(anomalies)\n",
        "    plt.scatter(anomalies_np[:, 0], anomalies_np[:, 1], color='red', label='Anomalies')\n",
        "    plt.legend()\n",
        "else:\n",
        "    print(\"No anomalies found with the current threshold.\")\n",
        "\n",
        "plt.show()"
      ],
      "execution_count": 34,
      "outputs": [
        {
          "output_type": "stream",
          "name": "stdout",
          "text": [
            "No anomalies found with the current threshold.\n"
          ]
        },
        {
          "output_type": "display_data",
          "data": {
            "text/plain": [
              "<Figure size 800x600 with 1 Axes>"
            ],
            "image/png": "[encoded data removed]"
          },
          "metadata": {}
        }
      ]
    }
  ]
}