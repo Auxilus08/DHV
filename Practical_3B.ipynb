{
  "nbformat": 4,
  "nbformat_minor": 0,
  "metadata": {
    "colab": {
      "provenance": [],
      "authorship_tag": "ABX9TyPeI3IEemnnHUDBVRoCUUO9",
      "include_colab_link": true
    },
    "kernelspec": {
      "name": "python3",
      "display_name": "Python 3"
    },
    "language_info": {
      "name": "python"
    }
  },
  "cells": [
    {
      "cell_type": "markdown",
      "metadata": {
        "id": "view-in-github",
        "colab_type": "text"
      },
      "source": [
        "<a href=\"https://colab.research.google.com/github/Auxilus08/DHV/blob/main/Practical_3B.ipynb\" target=\"_parent\"><img src=\"https://colab.research.google.com/assets/colab-badge.svg\" alt=\"Open In Colab\"/></a>"
      ]
    },
    {
      "cell_type": "markdown",
      "source": [],
      "metadata": {
        "id": "n7wF8NXxynYD"
      }
    },
    {
      "cell_type": "code",
      "execution_count": 5,
      "metadata": {
        "id": "pGqQQBNcwhih"
      },
      "outputs": [],
      "source": [
        "latency =  [30, 32, 31, 29, 150, 28, 27, 33, 34, 29, 31, 35, 200, 29, 30, 28, 33]"
      ]
    },
    {
      "cell_type": "code",
      "source": [
        "import numpy as np\n",
        "from scipy import stats"
      ],
      "metadata": {
        "id": "0MrKLM22zaPi"
      },
      "execution_count": 8,
      "outputs": []
    },
    {
      "cell_type": "code",
      "source": [
        "mean_val = np.mean(latency)\n",
        "mode_val = stats.mode(latency)[0]\n",
        "median_val = np.median(latency)\n",
        "\n",
        "print(\"Mean: \", mean_val)\n",
        "print(\"Mode: \", mode_val)\n",
        "print(\"Median: \", median_val)"
      ],
      "metadata": {
        "colab": {
          "base_uri": "https://localhost:8080/"
        },
        "id": "y910bplhzfxS",
        "outputId": "1cc1a7e0-94a5-40e9-da76-26c2e8f4254e"
      },
      "execution_count": 12,
      "outputs": [
        {
          "output_type": "stream",
          "name": "stdout",
          "text": [
            "Mean:  47.588235294117645\n",
            "Mode:  29\n",
            "Median:  31.0\n"
          ]
        }
      ]
    },
    {
      "cell_type": "code",
      "source": [
        "skewness = stats.skew(latency)\n",
        "print(\"Skewness: \", skewness)\n",
        "\n",
        "kurtosis = stats.kurtosis(latency)\n",
        "print(\"Kurtosis: \", kurtosis)"
      ],
      "metadata": {
        "colab": {
          "base_uri": "https://localhost:8080/"
        },
        "id": "dvjWqrv1z7IU",
        "outputId": "fd5474f9-955c-41aa-e055-4c4a97f38f48"
      },
      "execution_count": 10,
      "outputs": [
        {
          "output_type": "stream",
          "name": "stdout",
          "text": [
            "Skewness:  2.5128078704103576\n",
            "Kurtosis:  4.613368274768248\n"
          ]
        }
      ]
    },
    {
      "cell_type": "code",
      "source": [
        "# modified Z score for outliers\n",
        "\n",
        "median = np.median(latency)\n",
        "mad = np.median([np.abs(latency - median)])\n",
        "modified_z_scores = [0.6745 * (x - median) / mad for x in latency]\n",
        "outliers_mz = [x for x, mz in zip(latency, modified_z_scores) if abs(mz) > 3.5]"
      ],
      "metadata": {
        "id": "7SSPFH7c0WLL"
      },
      "execution_count": 13,
      "outputs": []
    },
    {
      "cell_type": "code",
      "source": [
        "# Tukey's fences\n",
        "\n",
        "Q1, Q3 = np.percentile(latency, [25, 75])\n",
        "IQR = Q3 - Q1\n",
        "lower_fence = Q1 - 1.5 * IQR\n",
        "upper_fence = Q3 + 1.5 * IQR\n",
        "outliers_tukey = [x for x in latency if x < lower_fence or x > upper_fence]\n",
        "\n",
        "\n",
        "print(f\"Mean: {mean_val}, Median: {median_val}, Mode: {mode_val}\")\n",
        "print(f\"Skewness: {skewness:.3f}, Kurtosis: {kurtosis:.3f}\")\n",
        "print(f\"Outliers (Modified Z-Score): {outliers_mz}\")\n",
        "print(f\"Outliers (Tukey's Fences): {outliers_tukey}\")"
      ],
      "metadata": {
        "colab": {
          "base_uri": "https://localhost:8080/"
        },
        "id": "aURXkIvs1DGT",
        "outputId": "53e3c7f0-c3ba-496b-d7d6-923d39282e55"
      },
      "execution_count": 17,
      "outputs": [
        {
          "output_type": "stream",
          "name": "stdout",
          "text": [
            "Mean: 47.588235294117645, Median: 31.0, Mode: 29\n",
            "Skewness: 2.513, Kurtosis: 4.613\n",
            "Outliers (Modified Z-Score): [150, 200]\n",
            "Outliers (Tukey's Fences): [150, 200]\n"
          ]
        }
      ]
    },
    {
      "cell_type": "markdown",
      "source": [
        "Measures of Variation and ECDF(Emprical Cumulative Distribution Function) on Grouped Data with Unequal Class Widths"
      ],
      "metadata": {
        "id": "xAOhcxdY2W6S"
      }
    },
    {
      "cell_type": "code",
      "source": [
        "import matplotlib.pyplot as plt"
      ],
      "metadata": {
        "id": "GEAVxq9b3mKS"
      },
      "execution_count": null,
      "outputs": []
    },
    {
      "cell_type": "code",
      "source": [
        "import numpy as np\n",
        "from scipy import stats\n",
        "import matplotlib.pyplot as plt\n",
        "\n",
        "class_intervals = [(10, 19), (20,34), (35, 49), (50, 70)]\n",
        "frequencies = [4, 7, 6, 3]\n",
        "\n",
        "midpoints = [(low + high) / 2 for low, high in class_intervals]\n",
        "n = sum(frequencies)\n",
        "\n",
        "mean_grouped = sum(f * x for f, x in zip(frequencies, midpoints)) / n\n",
        "variance = sum(f * (x - mean_grouped)**2 for f, x in zip(frequencies, midpoints)) / n\n",
        "cv = (np.sqrt(variance) / mean_grouped) * 100\n",
        "\n",
        "\n",
        "cum_freq = np.cumsum(frequencies)\n"
      ],
      "metadata": {
        "id": "842iuG5w1MPi"
      },
      "execution_count": 21,
      "outputs": []
    },
    {
      "cell_type": "code",
      "metadata": {
        "colab": {
          "base_uri": "https://localhost:8080/",
          "height": 472
        },
        "id": "0c47c3b0",
        "outputId": "c9bd96db-b6c2-4243-f644-dc5cc55a2ecc"
      },
      "source": [
        "ecdf_x = []\n",
        "ecdf_y = []\n",
        "\n",
        "for i, f in enumerate(frequencies):\n",
        "  ecdf_x.append(midpoints[i])\n",
        "  ecdf_y.append(cum_freq[i]/n)\n",
        "\n",
        "plt.step(ecdf_x, ecdf_y, where = 'post')\n",
        "plt.xlabel(\"Throughput (Mbps)\")\n",
        "plt.ylabel(\"ECDF\")\n",
        "plt.title(\"Empirical Cumulative Distribution Function (ECDF)\")\n",
        "plt.show()"
      ],
      "execution_count": 24,
      "outputs": [
        {
          "output_type": "display_data",
          "data": {
            "text/plain": [
              "<Figure size 640x480 with 1 Axes>"
            ],
            "image/png": "[encoded data removed]"
          },
          "metadata": {}
        }
      ]
    },
    {
      "cell_type": "code",
      "source": [
        "print(f\"Mean : {mean_grouped}, variance : {variance:.3f}, CoV : {cv:.3f}%\")"
      ],
      "metadata": {
        "colab": {
          "base_uri": "https://localhost:8080/"
        },
        "id": "8oEArmqD5zIC",
        "outputId": "d2985653-0217-4ceb-eb10-3b9ec4195c52"
      },
      "execution_count": 27,
      "outputs": [
        {
          "output_type": "stream",
          "name": "stdout",
          "text": [
            "Mean : 33.95, variance : 213.797, CoV : 43.069%\n"
          ]
        }
      ]
    },
    {
      "cell_type": "markdown",
      "source": [
        "Multivariate Z-score and Anomaly Detection"
      ],
      "metadata": {
        "id": "BeuPk0jE6bWp"
      }
    },
    {
      "cell_type": "code",
      "source": [],
      "metadata": {
        "id": "Vy_4Mc7A6YqB"
      },
      "execution_count": 27,
      "outputs": []
    },
    {
      "cell_type": "code",
      "metadata": {
        "id": "bf551d96"
      },
      "source": [
        "cpu = np.array([30, 40, 35, 50, 100, 45, 60, 55, 65, 95])\n",
        "memory = np.array([40, 45, 50, 55, 90, 48, 60, 59, 70, 100])\n",
        "\n",
        "data = np.vstack([cpu,memory]).T"
      ],
      "execution_count": 38,
      "outputs": []
    },
    {
      "cell_type": "code",
      "metadata": {
        "colab": {
          "base_uri": "https://localhost:8080/"
        },
        "id": "a94a7981",
        "outputId": "80360973-ba04-4b2e-fcdc-64843eee257d"
      },
      "source": [
        "print(data[:5])"
      ],
      "execution_count": 39,
      "outputs": [
        {
          "output_type": "stream",
          "name": "stdout",
          "text": [
            "[[ 30  40]\n",
            " [ 40  45]\n",
            " [ 35  50]\n",
            " [ 50  55]\n",
            " [100  90]]\n"
          ]
        }
      ]
    },
    {
      "cell_type": "code",
      "metadata": {
        "colab": {
          "base_uri": "https://localhost:8080/"
        },
        "id": "1f22616d",
        "outputId": "c73e9cdf-f063-4459-b566-c74563f1a259"
      },
      "source": [
        "mean_vector = np.mean(data, axis=0)\n",
        "std_vector = np.std(data, axis=0)\n",
        "cov_matrix = np.cov(data.T)\n",
        "\n",
        "print(\"Mean Vector:\", mean_vector)\n",
        "print(\"Standard Deviation Vector:\", std_vector)\n",
        "print(\"Covariance Matrix:\\n\", cov_matrix)"
      ],
      "execution_count": 40,
      "outputs": [
        {
          "output_type": "stream",
          "name": "stdout",
          "text": [
            "Mean Vector: [57.5 61.7]\n",
            "Standard Deviation Vector: [22.5        18.61746492]\n",
            "Covariance Matrix:\n",
            " [[562.5        453.05555556]\n",
            " [453.05555556 385.12222222]]\n"
          ]
        }
      ]
    },
    {
      "cell_type": "code",
      "metadata": {
        "id": "9716a238"
      },
      "source": [
        "z_scores = (data - mean_vector) / std_vector"
      ],
      "execution_count": 41,
      "outputs": []
    },
    {
      "cell_type": "code",
      "metadata": {
        "colab": {
          "base_uri": "https://localhost:8080/"
        },
        "id": "baf92f09",
        "outputId": "20cd9ef0-2dcc-42ca-8e1c-4d4b7773b9e9"
      },
      "source": [
        "anomalies = data[np.any(np.abs(z_scores) > 2, axis=1)]\n",
        "print(\"Anomalies (CPU%, Memory%)\")\n",
        "print(anomalies)"
      ],
      "execution_count": 42,
      "outputs": [
        {
          "output_type": "stream",
          "name": "stdout",
          "text": [
            "Anomalies (CPU%, Memory%)\n",
            "[[ 95 100]]\n"
          ]
        }
      ]
    },
    {
      "cell_type": "code",
      "metadata": {
        "id": "Q2NaIN4x8F14"
      },
      "source": [
        "import matplotlib.patches as patches\n",
        "import matplotlib.transforms as transforms"
      ],
      "execution_count": 43,
      "outputs": []
    },
    {
      "cell_type": "code",
      "source": [
        "def confidence_ellipse(x, y, ax, n_std = 2.0, **kwargs):\n",
        "  cov = np.cov(x, y)\n",
        "  pearson = cov[0, 1]/np.sort(cov[0, 0]*cov[1, 1])\n",
        "  ell_radius_x = np.sqrt(1 + pearson)\n",
        "  ell_radius_y = np.sqrt(1 - pearson)\n",
        "  ellipse = patches.Ellipse((0, 0), width=ell_radius_x * 2, height=ell_radius_y * 2, fill=False, **kwargs)\n",
        "\n",
        "  scale_x = np.sqrt(cov[0, 0]) * n_std\n",
        "  mean_x = np.mean(x)\n",
        "\n",
        "  scale_y = np.sqrt(cov[1, 1]) * n_std\n",
        "  mean_y = np.mean(y)\n",
        "\n",
        "  transf = transforms.Affine2D().rotate_deg(45).scale(scale_x, scale_y).translate(mean_x, mean_y)\n",
        "\n",
        "  ellipse.set_transform(transf + ax.transData)\n",
        "  return ax.add_patch(ellipse)\n",
        ""
      ],
      "metadata": {
        "id": "kw2BH3Pc92Ao"
      },
      "execution_count": 48,
      "outputs": []
    },
    {
      "cell_type": "code",
      "source": [],
      "metadata": {
        "id": "LTflx_1Y-SSw"
      },
      "execution_count": null,
      "outputs": []
    }
  ]
}