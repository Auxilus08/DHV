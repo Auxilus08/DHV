{
  "nbformat": 4,
  "nbformat_minor": 0,
  "metadata": {
    "colab": {
      "provenance": [],
      "authorship_tag": "ABX9TyMMIk2ys5GhGS2t90K3WYOb",
      "include_colab_link": true
    },
    "kernelspec": {
      "name": "python3",
      "display_name": "Python 3"
    },
    "language_info": {
      "name": "python"
    }
  },
  "cells": [
    {
      "cell_type": "markdown",
      "metadata": {
        "id": "view-in-github",
        "colab_type": "text"
      },
      "source": [
        "<a href=\"https://colab.research.google.com/github/Auxilus08/DHV/blob/main/Practical_3B.ipynb\" target=\"_parent\"><img src=\"https://colab.research.google.com/assets/colab-badge.svg\" alt=\"Open In Colab\"/></a>"
      ]
    },
    {
      "cell_type": "markdown",
      "source": [],
      "metadata": {
        "id": "n7wF8NXxynYD"
      }
    },
    {
      "cell_type": "code",
      "execution_count": 5,
      "metadata": {
        "id": "pGqQQBNcwhih"
      },
      "outputs": [],
      "source": [
        "latency =  [30, 32, 31, 29, 150, 28, 27, 33, 34, 29, 31, 35, 200, 29, 30, 28, 33]"
      ]
    },
    {
      "cell_type": "code",
      "source": [
        "import numpy as np\n",
        "from scipy import stats"
      ],
      "metadata": {
        "id": "0MrKLM22zaPi"
      },
      "execution_count": 8,
      "outputs": []
    },
    {
      "cell_type": "code",
      "source": [
        "mean_val = np.mean(latency)\n",
        "mode_val = stats.mode(latency)[0]\n",
        "median_val = np.median(latency)\n",
        "\n",
        "print(\"Mean: \", mean_val)\n",
        "print(\"Mode: \", mode_val)\n",
        "print(\"Median: \", median_val)"
      ],
      "metadata": {
        "colab": {
          "base_uri": "https://localhost:8080/"
        },
        "id": "y910bplhzfxS",
        "outputId": "1cc1a7e0-94a5-40e9-da76-26c2e8f4254e"
      },
      "execution_count": 12,
      "outputs": [
        {
          "output_type": "stream",
          "name": "stdout",
          "text": [
            "Mean:  47.588235294117645\n",
            "Mode:  29\n",
            "Median:  31.0\n"
          ]
        }
      ]
    },
    {
      "cell_type": "code",
      "source": [
        "skewness = stats.skew(latency)\n",
        "print(\"Skewness: \", skewness)\n",
        "\n",
        "kurtosis = stats.kurtosis(latency)\n",
        "print(\"Kurtosis: \", kurtosis)"
      ],
      "metadata": {
        "colab": {
          "base_uri": "https://localhost:8080/"
        },
        "id": "dvjWqrv1z7IU",
        "outputId": "fd5474f9-955c-41aa-e055-4c4a97f38f48"
      },
      "execution_count": 10,
      "outputs": [
        {
          "output_type": "stream",
          "name": "stdout",
          "text": [
            "Skewness:  2.5128078704103576\n",
            "Kurtosis:  4.613368274768248\n"
          ]
        }
      ]
    },
    {
      "cell_type": "code",
      "source": [
        "# modified Z score for outliers\n",
        "\n",
        "median = np.median(latency)\n",
        "mad = np.median([np.abs(latency - median)])\n",
        "modified_z_scores = [0.6745 * (x - median) / mad for x in latency]\n",
        "outliers_mz = [x for x, mz in zip(latency, modified_z_scores) if abs(mz) > 3.5]"
      ],
      "metadata": {
        "id": "7SSPFH7c0WLL"
      },
      "execution_count": 13,
      "outputs": []
    },
    {
      "cell_type": "code",
      "source": [
        "# Tukey's fences\n",
        "\n",
        "Q1, Q3 = np.percentile(latency, [25, 75])\n",
        "IQR = Q3 - Q1\n",
        "lower_fence = Q1 - 1.5 * IQR\n",
        "upper_fence = Q3 + 1.5 * IQR\n",
        "outliers_tukey = [x for x in latency if x < lower_fence or x > upper_fence]\n",
        "\n",
        "\n",
        "print(f\"Mean: {mean_val}, Median: {median_val}, Mode: {mode_val}\")\n",
        "print(f\"Skewness: {skewness:.3f}, Kurtosis: {kurtosis:.3f}\")\n",
        "print(f\"Outliers (Modified Z-Score): {outliers_mz}\")\n",
        "print(f\"Outliers (Tukey's Fences): {outliers_tukey}\")"
      ],
      "metadata": {
        "colab": {
          "base_uri": "https://localhost:8080/"
        },
        "id": "aURXkIvs1DGT",
        "outputId": "53e3c7f0-c3ba-496b-d7d6-923d39282e55"
      },
      "execution_count": 17,
      "outputs": [
        {
          "output_type": "stream",
          "name": "stdout",
          "text": [
            "Mean: 47.588235294117645, Median: 31.0, Mode: 29\n",
            "Skewness: 2.513, Kurtosis: 4.613\n",
            "Outliers (Modified Z-Score): [150, 200]\n",
            "Outliers (Tukey's Fences): [150, 200]\n"
          ]
        }
      ]
    },
    {
      "cell_type": "markdown",
      "source": [
        "Measures of Variation and ECDF(Emprical Cumulative Distribution Function) on Grouped Data with Unequal Class Widths"
      ],
      "metadata": {
        "id": "xAOhcxdY2W6S"
      }
    },
    {
      "cell_type": "code",
      "source": [
        "import matplotlib.pyplot as plt"
      ],
      "metadata": {
        "id": "GEAVxq9b3mKS"
      },
      "execution_count": null,
      "outputs": []
    },
    {
      "cell_type": "code",
      "source": [
        "import numpy as np\n",
        "from scipy import stats\n",
        "import matplotlib.pyplot as plt\n",
        "\n",
        "class_intervals = [(10, 19), (20,34), (35, 49), (50, 70)]\n",
        "frequencies = [4, 7, 6, 3]\n",
        "\n",
        "midpoints = [(low + high) / 2 for low, high in class_intervals]\n",
        "n = sum(frequencies)\n",
        "\n",
        "mean_grouped = sum(f * x for f, x in zip(frequencies, midpoints)) / n\n",
        "variance = sum(f * (x - mean_grouped)**2 for f, x in zip(frequencies, midpoints)) / n\n",
        "cv = (np.sqrt(variance) / mean_grouped) * 100\n",
        "\n",
        "\n",
        "cum_freq = np.cumsum(frequencies)\n"
      ],
      "metadata": {
        "id": "842iuG5w1MPi"
      },
      "execution_count": 21,
      "outputs": []
    },
    {
      "cell_type": "code",
      "metadata": {
        "colab": {
          "base_uri": "https://localhost:8080/",
          "height": 447
        },
        "id": "0c47c3b0",
        "outputId": "64095ce1-1a03-4ab7-e0d9-b795a6c6f5d2"
      },
      "source": [
        "ecdf_x = []\n",
        "ecdf_y = []\n",
        "\n",
        "for i, f in enumerate(frequencies):\n",
        "  ecdf_x.append(midpoints[i])\n",
        "  ecdf_y.append(cum_freq[i]/n)\n",
        "\n",
        "plt.step(ecdf_x, ecdf_y, where = 'post')"
      ],
      "execution_count": 23,
      "outputs": [
        {
          "output_type": "execute_result",
          "data": {
            "text/plain": [
              "[<matplotlib.lines.Line2D at 0x7dcf43768500>]"
            ]
          },
          "metadata": {},
          "execution_count": 23
        },
        {
          "output_type": "display_data",
          "data": {
            "text/plain": [
              "<Figure size 640x480 with 1 Axes>"
            ],
            "image/png": "[encoded data removed]"
          },
          "metadata": {}
        }
      ]
    },
    {
      "cell_type": "code",
      "source": [],
      "metadata": {
        "id": "8oEArmqD5zIC"
      },
      "execution_count": null,
      "outputs": []
    }
  ]
}